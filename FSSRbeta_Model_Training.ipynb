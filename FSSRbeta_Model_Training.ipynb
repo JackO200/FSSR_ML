{
 "cells": [
  {
   "cell_type": "code",
   "execution_count": null,
   "metadata": {},
   "outputs": [],
   "source": [
    "# Install Packages\n",
    "from ultralytics import YOLO\n",
    "import cv2\n",
    "from hub_sdk import HUBClient"
   ]
  },
  {
   "cell_type": "code",
   "execution_count": null,
   "metadata": {},
   "outputs": [],
   "source": [
    "# Pulling data from Roboflow\n",
    "\n",
    "#pip install roboflow\n",
    "from roboflow import Roboflow\n",
    "rf = Roboflow(api_key=\"YK9vtY9XEH3XcXjsXEDB\")\n",
    "project = rf.workspace(\"jackthesciguy\").project(\"fssrbeta\")\n",
    "dataset = project.version(2).download(\"yolov8\")"
   ]
  },
  {
   "cell_type": "code",
   "execution_count": null,
   "metadata": {},
   "outputs": [],
   "source": [
    "# Train FSSRbeta model\n",
    "!yolo task=detect mode=train model=yolov8m.pt data={dataset.location}/data.yaml epochs=20 imgsz=640 plots=True"
   ]
  },
  {
   "cell_type": "code",
   "execution_count": null,
   "metadata": {},
   "outputs": [],
   "source": [
    "# Validate FSSRbeta model\n",
    "!yolo task=detect mode=val model=runs/detect/train2/weights/best.pt data=FSSRbeta-2/data.yaml plots=True"
   ]
  },
  {
   "cell_type": "code",
   "execution_count": null,
   "metadata": {},
   "outputs": [],
   "source": [
    "# Predict FSSRbeta model\n",
    "!yolo task=detect mode=predict model=runs/detect/train2/weights/best.pt data=FSSRbeta-2/data.yaml plots=True source=/Users/jackorebaugh/Documents/test/FSSRbeta-2/valid/images"
   ]
  }
 ],
 "metadata": {
  "language_info": {
   "name": "python"
  }
 },
 "nbformat": 4,
 "nbformat_minor": 2
}
