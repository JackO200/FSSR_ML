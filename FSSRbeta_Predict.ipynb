{
 "cells": [
  {
   "cell_type": "code",
   "execution_count": null,
   "metadata": {},
   "outputs": [],
   "source": [
    "# Install Packages\n",
    "from ultralytics import YOLO\n",
    "import cv2\n",
    "from hub_sdk import HUBClient"
   ]
  },
  {
   "cell_type": "code",
   "execution_count": null,
   "metadata": {},
   "outputs": [],
   "source": [
    "## Code for IMAGES\n",
    "\n",
    "# Install Packages\n",
    "from ultralytics import YOLO\n",
    "import cv2\n",
    "from hub_sdk import HUBClient\n",
    "\n",
    "# Load the YOLOv8 pre-trained model\n",
    "model = YOLO('FSSRbeta.pt')\n",
    "\n",
    "\n",
    "# Run inference on test data\n",
    "results = model(source=\"GoogleEarth_test.png\", show=True, save=True)\n",
    "\n",
    "# Way to close the window\n",
    "cv2.startWindowThread()\n",
    "cv2.waitKey(0)\n",
    "cv2.destroyAllWindows()\n",
    "cv2.waitKey(1)"
   ]
  },
  {
   "cell_type": "code",
   "execution_count": null,
   "metadata": {},
   "outputs": [],
   "source": [
    "# Code for VIDEO\n",
    "\n",
    "# Install Packages\n",
    "from ultralytics import YOLO\n",
    "import cv2\n",
    "from hub_sdk import HUBClient\n",
    "\n",
    "# Load the YOLOv8 pre-trained model\n",
    "model = YOLO('FSSRbeta.pt')\n",
    "\n",
    "# Capture native webcam\n",
    "cap = cv2.VideoCapture(\"Drone Flying Over Forest.mp4\")\n",
    "\n",
    "# While loop for capturing and running specified YOLO model on our webcam\n",
    "while cap.isOpened():\n",
    "    success, frame=cap.read()\n",
    "\n",
    "    if success:\n",
    "        results = model(frame)\n",
    "        annotated_frame = results[0].plot()\n",
    "        cv2.imshow(\"YOLOv8 Inference\", annotated_frame)\n",
    "        if cv2.waitKey(1) & 0xFF == ord(\"q\"): # Allowing for us to stop the video feed by pressing 'q'\n",
    "            break\n",
    "    else:\n",
    "        break\n",
    "cap.release()\n",
    "cv2.destroyAllWindows()\n",
    "cv2.waitKey(1)"
   ]
  },
  {
   "cell_type": "code",
   "execution_count": null,
   "metadata": {},
   "outputs": [],
   "source": []
  }
 ],
 "metadata": {
  "language_info": {
   "name": "python"
  }
 },
 "nbformat": 4,
 "nbformat_minor": 2
}
