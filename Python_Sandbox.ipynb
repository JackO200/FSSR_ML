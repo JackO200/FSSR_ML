{
 "cells": [
  {
   "cell_type": "code",
   "execution_count": 7,
   "metadata": {},
   "outputs": [],
   "source": [
    "# Import packages\n",
    "import ultralytics\n",
    "ultralytics.checks()\n",
    "from ultralytics import YOLO\n",
    "import cv2\n",
    "from IPython import display\n",
    "display.clear_output()\n"
   ]
  },
  {
   "cell_type": "code",
   "execution_count": 6,
   "metadata": {},
   "outputs": [
    {
     "ename": "NameError",
     "evalue": "name 'Roboflow' is not defined",
     "output_type": "error",
     "traceback": [
      "\u001b[0;31m---------------------------------------------------------------------------\u001b[0m",
      "\u001b[0;31mNameError\u001b[0m                                 Traceback (most recent call last)",
      "\u001b[1;32m/Users/jackorebaugh/Documents/Code/FSSR_ML/Python_Sandbox.ipynb Cell 2\u001b[0m line \u001b[0;36m2\n\u001b[1;32m      <a href='vscode-notebook-cell:/Users/jackorebaugh/Documents/Code/FSSR_ML/Python_Sandbox.ipynb#X54sZmlsZQ%3D%3D?line=0'>1</a>\u001b[0m \u001b[39m# Roboflow Dataset Test\u001b[39;00m\n\u001b[0;32m----> <a href='vscode-notebook-cell:/Users/jackorebaugh/Documents/Code/FSSR_ML/Python_Sandbox.ipynb#X54sZmlsZQ%3D%3D?line=1'>2</a>\u001b[0m rf \u001b[39m=\u001b[39m Roboflow(api_key\u001b[39m=\u001b[39m\u001b[39m\"\u001b[39m\u001b[39mYK9vtY9XEH3XcXjsXEDB\u001b[39m\u001b[39m\"\u001b[39m)\n\u001b[1;32m      <a href='vscode-notebook-cell:/Users/jackorebaugh/Documents/Code/FSSR_ML/Python_Sandbox.ipynb#X54sZmlsZQ%3D%3D?line=2'>3</a>\u001b[0m project \u001b[39m=\u001b[39m rf\u001b[39m.\u001b[39mworkspace(\u001b[39m\"\u001b[39m\u001b[39mjackthesciguy\u001b[39m\u001b[39m\"\u001b[39m)\u001b[39m.\u001b[39mproject(\u001b[39m\"\u001b[39m\u001b[39mtest-qcfpa\u001b[39m\u001b[39m\"\u001b[39m)\n\u001b[1;32m      <a href='vscode-notebook-cell:/Users/jackorebaugh/Documents/Code/FSSR_ML/Python_Sandbox.ipynb#X54sZmlsZQ%3D%3D?line=3'>4</a>\u001b[0m dataset \u001b[39m=\u001b[39m project\u001b[39m.\u001b[39mversion(\u001b[39m1\u001b[39m)\u001b[39m.\u001b[39mdownload(\u001b[39m\"\u001b[39m\u001b[39myolov8\u001b[39m\u001b[39m\"\u001b[39m)\n",
      "\u001b[0;31mNameError\u001b[0m: name 'Roboflow' is not defined"
     ]
    }
   ],
   "source": [
    "# Roboflow Dataset Test\n",
    "rf = Roboflow(api_key=\"YK9vtY9XEH3XcXjsXEDB\")\n",
    "project = rf.workspace(\"jackthesciguy\").project(\"test-qcfpa\")\n",
    "dataset = project.version(1).download(\"yolov8\")\n"
   ]
  },
  {
   "cell_type": "code",
   "execution_count": null,
   "metadata": {},
   "outputs": [],
   "source": [
    "#Real Time Detection Test\n"
   ]
  }
 ],
 "metadata": {
  "language_info": {
   "name": "python"
  }
 },
 "nbformat": 4,
 "nbformat_minor": 2
}
